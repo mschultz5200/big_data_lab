{
 "cells": [
  {
   "cell_type": "code",
   "execution_count": 1,
   "metadata": {},
   "outputs": [
    {
     "name": "stderr",
     "output_type": "stream",
     "text": [
      "/usr/local/lib/python3.9/site-packages/scipy/__init__.py:146: UserWarning: A NumPy version >=1.16.5 and <1.23.0 is required for this version of SciPy (detected version 1.23.0\n",
      "  warnings.warn(f\"A NumPy version >={np_minversion} and <{np_maxversion}\"\n",
      "[nltk_data] Downloading package punkt to\n",
      "[nltk_data]     /Users/matthewschultz/nltk_data...\n",
      "[nltk_data]   Package punkt is already up-to-date!\n",
      "[nltk_data] Downloading package averaged_perceptron_tagger to\n",
      "[nltk_data]     /Users/matthewschultz/nltk_data...\n",
      "[nltk_data]   Package averaged_perceptron_tagger is already up-to-\n",
      "[nltk_data]       date!\n"
     ]
    },
    {
     "data": {
      "text/plain": [
       "True"
      ]
     },
     "execution_count": 1,
     "metadata": {},
     "output_type": "execute_result"
    }
   ],
   "source": [
    "from flair.data import Sentence\n",
    "from flair.nn import Classifier\n",
    "import pandas as pd\n",
    "import re\n",
    "import nltk\n",
    "import string\n",
    "nltk.download('punkt')\n",
    "nltk.download('averaged_perceptron_tagger')"
   ]
  },
  {
   "cell_type": "code",
   "execution_count": 2,
   "metadata": {},
   "outputs": [],
   "source": [
    "tweets = pd.read_csv('/Users/matthewschultz/Big_Data_Lab/dominion_voting/output/attempt.csv', low_memory=False)"
   ]
  },
  {
   "cell_type": "code",
   "execution_count": 3,
   "metadata": {},
   "outputs": [
    {
     "name": "stdout",
     "output_type": "stream",
     "text": [
      "0\n",
      "1\n",
      "2\n",
      "3\n",
      "4\n",
      "5\n",
      "6\n",
      "7\n",
      "8\n",
      "9\n",
      "10\n",
      "11\n",
      "12\n",
      "13\n",
      "14\n",
      "15\n",
      "16\n",
      "17\n",
      "18\n",
      "19\n",
      "20\n"
     ]
    }
   ],
   "source": [
    "def remove_punctuation(x):\n",
    "  new_list = [re.sub(\"/\\\\n|\\,|\\(|\\)|\\[|\\]/g\", \"\", word) for word in x]\n",
    "  i_list = [re.split(\"\\/\", word) for word in new_list]\n",
    "  flatten_list = lambda irregular_list:[element for item in irregular_list for element in flatten_list(item)] if type(irregular_list) is list else [irregular_list]\n",
    "  list4 = flatten_list(i_list)\n",
    "  final_list = \" \".join([word for word in list4 if word != \"\"])\n",
    "  final_list = final_list.translate(str.maketrans('', '', string.punctuation))\n",
    "  return final_list\n",
    "\n",
    "\n",
    "def clean_tweets(df):\n",
    "    list_of_tweets = []\n",
    "    df = df.dropna(subset=['Title'])\n",
    "    for index, row in df.iterrows():\n",
    "        print(index)\n",
    "        tweet = row['Title']\n",
    "        \n",
    "        tweet = re.sub(r'https?:\\/\\/.\\S+', \"\", tweet)\n",
    "        tweet = re.sub(r'#', '', tweet)\n",
    "        tweet = re.sub(r'^RT[\\s]+', '', tweet)\n",
    "        tweet = \" \".join([s for s in re.split(\"([A-Z][a-z]+[^A-Z]*)\",tweet) if s])\n",
    "\n",
    "        tweet = nltk.word_tokenize(tweet)\n",
    "        tweet = remove_punctuation(tweet)\n",
    "        tweet = re.sub(\" +\", \" \", tweet)\n",
    "        list_of_tweets.append(tweet)\n",
    "        if index == 20:\n",
    "           return list_of_tweets\n",
    "        \n",
    "\n",
    "cleaned_tweets = clean_tweets(tweets)"
   ]
  },
  {
   "cell_type": "code",
   "execution_count": 4,
   "metadata": {},
   "outputs": [
    {
     "name": "stdout",
     "output_type": "stream",
     "text": [
      "0\n",
      "2023-04-14 10:19:45,147 SequenceTagger predicts: Dictionary with 20 tags: <unk>, O, S-ORG, S-MISC, B-PER, E-PER, S-LOC, B-ORG, E-ORG, I-PER, S-PER, B-MISC, I-MISC, E-MISC, I-ORG, B-LOC, E-LOC, I-LOC, <START>, <STOP>\n",
      "1\n",
      "2023-04-14 10:19:51,387 SequenceTagger predicts: Dictionary with 20 tags: <unk>, O, S-ORG, S-MISC, B-PER, E-PER, S-LOC, B-ORG, E-ORG, I-PER, S-PER, B-MISC, I-MISC, E-MISC, I-ORG, B-LOC, E-LOC, I-LOC, <START>, <STOP>\n",
      "2\n",
      "2023-04-14 10:19:57,477 SequenceTagger predicts: Dictionary with 20 tags: <unk>, O, S-ORG, S-MISC, B-PER, E-PER, S-LOC, B-ORG, E-ORG, I-PER, S-PER, B-MISC, I-MISC, E-MISC, I-ORG, B-LOC, E-LOC, I-LOC, <START>, <STOP>\n",
      "3\n",
      "2023-04-14 10:20:03,357 SequenceTagger predicts: Dictionary with 20 tags: <unk>, O, S-ORG, S-MISC, B-PER, E-PER, S-LOC, B-ORG, E-ORG, I-PER, S-PER, B-MISC, I-MISC, E-MISC, I-ORG, B-LOC, E-LOC, I-LOC, <START>, <STOP>\n",
      "4\n",
      "2023-04-14 10:20:12,074 SequenceTagger predicts: Dictionary with 20 tags: <unk>, O, S-ORG, S-MISC, B-PER, E-PER, S-LOC, B-ORG, E-ORG, I-PER, S-PER, B-MISC, I-MISC, E-MISC, I-ORG, B-LOC, E-LOC, I-LOC, <START>, <STOP>\n",
      "5\n",
      "2023-04-14 10:20:20,298 SequenceTagger predicts: Dictionary with 20 tags: <unk>, O, S-ORG, S-MISC, B-PER, E-PER, S-LOC, B-ORG, E-ORG, I-PER, S-PER, B-MISC, I-MISC, E-MISC, I-ORG, B-LOC, E-LOC, I-LOC, <START>, <STOP>\n",
      "6\n",
      "2023-04-14 10:20:27,100 SequenceTagger predicts: Dictionary with 20 tags: <unk>, O, S-ORG, S-MISC, B-PER, E-PER, S-LOC, B-ORG, E-ORG, I-PER, S-PER, B-MISC, I-MISC, E-MISC, I-ORG, B-LOC, E-LOC, I-LOC, <START>, <STOP>\n",
      "7\n",
      "2023-04-14 10:20:34,994 SequenceTagger predicts: Dictionary with 20 tags: <unk>, O, S-ORG, S-MISC, B-PER, E-PER, S-LOC, B-ORG, E-ORG, I-PER, S-PER, B-MISC, I-MISC, E-MISC, I-ORG, B-LOC, E-LOC, I-LOC, <START>, <STOP>\n",
      "8\n",
      "2023-04-14 10:20:46,393 SequenceTagger predicts: Dictionary with 20 tags: <unk>, O, S-ORG, S-MISC, B-PER, E-PER, S-LOC, B-ORG, E-ORG, I-PER, S-PER, B-MISC, I-MISC, E-MISC, I-ORG, B-LOC, E-LOC, I-LOC, <START>, <STOP>\n",
      "9\n",
      "2023-04-14 10:20:53,739 SequenceTagger predicts: Dictionary with 20 tags: <unk>, O, S-ORG, S-MISC, B-PER, E-PER, S-LOC, B-ORG, E-ORG, I-PER, S-PER, B-MISC, I-MISC, E-MISC, I-ORG, B-LOC, E-LOC, I-LOC, <START>, <STOP>\n",
      "10\n",
      "2023-04-14 10:20:57,991 SequenceTagger predicts: Dictionary with 20 tags: <unk>, O, S-ORG, S-MISC, B-PER, E-PER, S-LOC, B-ORG, E-ORG, I-PER, S-PER, B-MISC, I-MISC, E-MISC, I-ORG, B-LOC, E-LOC, I-LOC, <START>, <STOP>\n",
      "11\n",
      "2023-04-14 10:21:02,537 SequenceTagger predicts: Dictionary with 20 tags: <unk>, O, S-ORG, S-MISC, B-PER, E-PER, S-LOC, B-ORG, E-ORG, I-PER, S-PER, B-MISC, I-MISC, E-MISC, I-ORG, B-LOC, E-LOC, I-LOC, <START>, <STOP>\n",
      "12\n",
      "2023-04-14 10:21:08,689 SequenceTagger predicts: Dictionary with 20 tags: <unk>, O, S-ORG, S-MISC, B-PER, E-PER, S-LOC, B-ORG, E-ORG, I-PER, S-PER, B-MISC, I-MISC, E-MISC, I-ORG, B-LOC, E-LOC, I-LOC, <START>, <STOP>\n",
      "13\n",
      "2023-04-14 10:21:13,810 SequenceTagger predicts: Dictionary with 20 tags: <unk>, O, S-ORG, S-MISC, B-PER, E-PER, S-LOC, B-ORG, E-ORG, I-PER, S-PER, B-MISC, I-MISC, E-MISC, I-ORG, B-LOC, E-LOC, I-LOC, <START>, <STOP>\n",
      "14\n",
      "2023-04-14 10:21:18,208 SequenceTagger predicts: Dictionary with 20 tags: <unk>, O, S-ORG, S-MISC, B-PER, E-PER, S-LOC, B-ORG, E-ORG, I-PER, S-PER, B-MISC, I-MISC, E-MISC, I-ORG, B-LOC, E-LOC, I-LOC, <START>, <STOP>\n",
      "15\n",
      "2023-04-14 10:21:22,000 SequenceTagger predicts: Dictionary with 20 tags: <unk>, O, S-ORG, S-MISC, B-PER, E-PER, S-LOC, B-ORG, E-ORG, I-PER, S-PER, B-MISC, I-MISC, E-MISC, I-ORG, B-LOC, E-LOC, I-LOC, <START>, <STOP>\n",
      "16\n",
      "2023-04-14 10:21:26,558 SequenceTagger predicts: Dictionary with 20 tags: <unk>, O, S-ORG, S-MISC, B-PER, E-PER, S-LOC, B-ORG, E-ORG, I-PER, S-PER, B-MISC, I-MISC, E-MISC, I-ORG, B-LOC, E-LOC, I-LOC, <START>, <STOP>\n",
      "17\n",
      "2023-04-14 10:21:32,178 SequenceTagger predicts: Dictionary with 20 tags: <unk>, O, S-ORG, S-MISC, B-PER, E-PER, S-LOC, B-ORG, E-ORG, I-PER, S-PER, B-MISC, I-MISC, E-MISC, I-ORG, B-LOC, E-LOC, I-LOC, <START>, <STOP>\n",
      "18\n",
      "2023-04-14 10:21:37,382 SequenceTagger predicts: Dictionary with 20 tags: <unk>, O, S-ORG, S-MISC, B-PER, E-PER, S-LOC, B-ORG, E-ORG, I-PER, S-PER, B-MISC, I-MISC, E-MISC, I-ORG, B-LOC, E-LOC, I-LOC, <START>, <STOP>\n",
      "19\n",
      "2023-04-14 10:21:41,902 SequenceTagger predicts: Dictionary with 20 tags: <unk>, O, S-ORG, S-MISC, B-PER, E-PER, S-LOC, B-ORG, E-ORG, I-PER, S-PER, B-MISC, I-MISC, E-MISC, I-ORG, B-LOC, E-LOC, I-LOC, <START>, <STOP>\n",
      "20\n",
      "2023-04-14 10:21:47,287 SequenceTagger predicts: Dictionary with 20 tags: <unk>, O, S-ORG, S-MISC, B-PER, E-PER, S-LOC, B-ORG, E-ORG, I-PER, S-PER, B-MISC, I-MISC, E-MISC, I-ORG, B-LOC, E-LOC, I-LOC, <START>, <STOP>\n"
     ]
    }
   ],
   "source": [
    "def create_ner_df(lis):\n",
    "    entity_ = []\n",
    "    tag_ =  []\n",
    "    index = 0\n",
    "    for tweet in lis:\n",
    "        print(index)\n",
    "        sentence = Sentence(tweet)\n",
    "\n",
    "        # load the NER tagger\n",
    "        tagger = Classifier.load('ner')\n",
    "\n",
    "        # run NER over sentence\n",
    "        tagger.predict(sentence)\n",
    "        for label in sentence.get_labels():\n",
    "            entity_.append(label.data_point.text)\n",
    "            tag_.append(label.value)\n",
    "        index = index + 1\n",
    "\n",
    "    final = pd.DataFrame({'entity': entity_, 'tag': tag_})\n",
    "    return final\n",
    "\n",
    "ner_df = create_ner_df(cleaned_tweets)\n",
    "\n"
   ]
  },
  {
   "cell_type": "code",
   "execution_count": 5,
   "metadata": {},
   "outputs": [
    {
     "name": "stdout",
     "output_type": "stream",
     "text": [
      "                                               entity   tag  frequency\n",
      "0                                              Bowers   PER          1\n",
      "1                                               CHINA   LOC          1\n",
      "2                                                 CNN   ORG          1\n",
      "3                                Carlos Simancas Raul   PER          1\n",
      "4                                            Congress   ORG          4\n",
      "5                                           Democrats  MISC          4\n",
      "6                                              Denver   LOC          1\n",
      "7                                            Dominion   ORG          5\n",
      "8                            Dominion Voting Services   ORG          1\n",
      "9                              Dominion Voting System  MISC          2\n",
      "10                            Dominion Voting Systems   ORG         10\n",
      "11        Dominion Voting Systems Lead To Data Center   ORG          1\n",
      "12                               Dominion Voting scam  MISC          1\n",
      "13                                                EAC   ORG          2\n",
      "14                                   Emerald Robinson   ORG          3\n",
      "15                                        Flynn Flynn   PER          1\n",
      "16                                                GOP  MISC          2\n",
      "17                                          Lou Dobbs   PER          1\n",
      "18                           MAGA America First Dobbs   ORG          1\n",
      "19   Mitchell Golsto5 Panther Eyez7 re5i Gam The serb  MISC          1\n",
      "20                                             Nevada   LOC          2\n",
      "21                       OANN Dominion Voting Systems   ORG          1\n",
      "22                                      Pamela Geller   PER          2\n",
      "23                                       Pennsylvania   LOC          1\n",
      "24                                        Republicans  MISC          6\n",
      "25                                             Serbia   LOC          3\n",
      "26                                         Seth Grove   PER          1\n",
      "27                                              Trump   PER          3\n",
      "28                                     Trumper RIN Os  MISC          2\n",
      "29                                               Turd   PER          1\n",
      "30                                        Voter Fraud   ORG          1\n",
      "31  las declaraciones de abogado de Trump sobre pr...  MISC          1\n"
     ]
    }
   ],
   "source": [
    "freq_table_frequency = ner_df.groupby(['entity', 'tag']).size().reset_index(name=\"frequency\")\n",
    "\n",
    "print(freq_table_frequency)"
   ]
  }
 ],
 "metadata": {
  "kernelspec": {
   "display_name": "Python 3",
   "language": "python",
   "name": "python3"
  },
  "language_info": {
   "codemirror_mode": {
    "name": "ipython",
    "version": 3
   },
   "file_extension": ".py",
   "mimetype": "text/x-python",
   "name": "python",
   "nbconvert_exporter": "python",
   "pygments_lexer": "ipython3",
   "version": "3.9.14"
  },
  "orig_nbformat": 4,
  "vscode": {
   "interpreter": {
    "hash": "397704579725e15f5c7cb49fe5f0341eb7531c82d19f2c29d197e8b64ab5776b"
   }
  }
 },
 "nbformat": 4,
 "nbformat_minor": 2
}
