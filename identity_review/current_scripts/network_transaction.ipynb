{
 "cells": [
  {
   "cell_type": "markdown",
   "metadata": {},
   "source": []
  },
  {
   "cell_type": "code",
   "execution_count": 1,
   "metadata": {},
   "outputs": [
    {
     "name": "stdout",
     "output_type": "stream",
     "text": [
      "\u001b[33mDEPRECATION: Configuring installation scheme with distutils config files is deprecated and will no longer work in the near future. If you are using a Homebrew or Linuxbrew Python, please see discussion at https://github.com/Homebrew/homebrew-core/issues/76621\u001b[0m\u001b[33m\n",
      "\u001b[0mRequirement already satisfied: moralis in /usr/local/lib/python3.9/site-packages (0.1.14)\n",
      "Requirement already satisfied: certifi>=14.5.14 in /usr/local/lib/python3.9/site-packages (from moralis) (2022.9.24)\n",
      "Requirement already satisfied: python-dateutil~=2.7.0 in /usr/local/lib/python3.9/site-packages (from moralis) (2.7.5)\n",
      "Requirement already satisfied: urllib3~=1.26.7 in /usr/local/lib/python3.9/site-packages (from moralis) (1.26.12)\n",
      "Requirement already satisfied: typing-extensions~=4.3.0 in /usr/local/lib/python3.9/site-packages (from moralis) (4.3.0)\n",
      "Requirement already satisfied: frozendict~=2.3.4 in /usr/local/lib/python3.9/site-packages (from moralis) (2.3.4)\n",
      "Requirement already satisfied: six>=1.5 in /usr/local/lib/python3.9/site-packages (from python-dateutil~=2.7.0->moralis) (1.16.0)\n",
      "\u001b[33mDEPRECATION: Configuring installation scheme with distutils config files is deprecated and will no longer work in the near future. If you are using a Homebrew or Linuxbrew Python, please see discussion at https://github.com/Homebrew/homebrew-core/issues/76621\u001b[0m\u001b[33m\n",
      "\u001b[0m\n",
      "\u001b[1m[\u001b[0m\u001b[34;49mnotice\u001b[0m\u001b[1;39;49m]\u001b[0m\u001b[39;49m A new release of pip available: \u001b[0m\u001b[31;49m22.2.2\u001b[0m\u001b[39;49m -> \u001b[0m\u001b[32;49m23.0.1\u001b[0m\n",
      "\u001b[1m[\u001b[0m\u001b[34;49mnotice\u001b[0m\u001b[1;39;49m]\u001b[0m\u001b[39;49m To update, run: \u001b[0m\u001b[32;49mpython3.9 -m pip install --upgrade pip\u001b[0m\n",
      "Note: you may need to restart the kernel to use updated packages.\n"
     ]
    }
   ],
   "source": [
    "%pip install moralis\n",
    "\n",
    "import time\n",
    "from datetime import datetime\n",
    "import regex as re\n",
    "import pandas as pd\n",
    "from moralis import evm_api\n",
    "import json\n",
    "import string"
   ]
  },
  {
   "cell_type": "code",
   "execution_count": null,
   "metadata": {},
   "outputs": [],
   "source": [
    "def call_api(api_key, address, cursor):\n",
    "    if cursor == '':\n",
    "        params = {\n",
    "            \"address\": address, \n",
    "            \"chain\": \"eth\",\n",
    "        }\n",
    "    else:   \n",
    "        params = {\n",
    "            \"address\": address, \n",
    "            \"chain\": \"eth\",\n",
    "            'cursor': cursor,\n",
    "        }\n",
    "\n",
    "    result = evm_api.transaction.get_wallet_transactions(\n",
    "        api_key=api_key,\n",
    "        params=params,\n",
    "    )\n",
    "    final_json = json.dumps(result['result'], indent=4, sort_keys=True)\n",
    "\n",
    "    temp_df = pd.read_json(final_json)\n",
    "    previous_cursor = result['cursor']\n",
    "\n",
    "    return temp_df, previous_cursor\n",
    "\n",
    "def get_transaction_history(api_key, address):\n",
    "    list_of_histories = []\n",
    "    previous_cursor = \"\"\n",
    "    nextCursor = True\n",
    "    index = 0\n",
    "    \n",
    "    while nextCursor:\n",
    "        print(index)\n",
    "        if previous_cursor == \"\":\n",
    "           \n",
    "            temp, previous_cursor = call_api(api_key, address, previous_cursor)\n",
    "            list_of_histories.append(temp)\n",
    "\n",
    "            if previous_cursor == None:\n",
    "                nextCursor = False\n",
    "        else:\n",
    "            temp, previous_cursor = call_api(api_key, address, previous_cursor)\n",
    "            list_of_histories.append(temp)\n",
    "\n",
    "            if previous_cursor == None:\n",
    "                nextCursor = False\n",
    "        \n",
    "        index = index + 1"
   ]
  }
 ],
 "metadata": {
  "kernelspec": {
   "display_name": "Python 3",
   "language": "python",
   "name": "python3"
  },
  "language_info": {
   "codemirror_mode": {
    "name": "ipython",
    "version": 3
   },
   "file_extension": ".py",
   "mimetype": "text/x-python",
   "name": "python",
   "nbconvert_exporter": "python",
   "pygments_lexer": "ipython3",
   "version": "3.9.14"
  },
  "orig_nbformat": 4,
  "vscode": {
   "interpreter": {
    "hash": "397704579725e15f5c7cb49fe5f0341eb7531c82d19f2c29d197e8b64ab5776b"
   }
  }
 },
 "nbformat": 4,
 "nbformat_minor": 2
}
