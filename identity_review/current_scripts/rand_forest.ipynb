{
 "cells": [
  {
   "cell_type": "code",
   "execution_count": 2,
   "metadata": {},
   "outputs": [],
   "source": [
    "import pandas as pd\n",
    "from sklearn.ensemble import RandomForestClassifier\n",
    "from sklearn.model_selection import train_test_split, cross_val_score\n",
    "from sklearn.metrics import accuracy_score, confusion_matrix, classification_report\n",
    "from sklearn import preprocessing\n",
    "import numpy as np\n",
    "import os\n",
    "from sklearn import svm\n",
    "import matplotlib.pyplot as plt\n"
   ]
  },
  {
   "cell_type": "code",
   "execution_count": 3,
   "metadata": {},
   "outputs": [
    {
     "name": "stdout",
     "output_type": "stream",
     "text": [
      "/Users/matthewschultz/Big_Data_Lab/identity_review/csv_output/single_wallet_history/history_0x098b716b8aaf21512996dc57eb0615e2383e2f96.csv\n",
      "/Users/matthewschultz/Big_Data_Lab/identity_review/csv_output/single_wallet_history/history_0x3035b2e90D83c1C07C1F8A21e4cb27e8E8A0a00e.csv\n",
      "/Users/matthewschultz/Big_Data_Lab/identity_review/csv_output/single_wallet_history/history_0x3E0DeFb880cd8e163baD68ABe66437f99A7A8A74.csv\n",
      "/Users/matthewschultz/Big_Data_Lab/identity_review/csv_output/single_wallet_history/history_0x6162759eDAd730152F0dF8115c698a42E666157F.csv\n",
      "/Users/matthewschultz/Big_Data_Lab/identity_review/csv_output/single_wallet_history/history_0x629e7Da20197a5429d30da36E77d06CdF796b71A.csv\n",
      "/Users/matthewschultz/Big_Data_Lab/identity_review/csv_output/single_wallet_history/history_0x711C0139ABA68542A768f24964a801a93500D24D.csv\n",
      "/Users/matthewschultz/Big_Data_Lab/identity_review/csv_output/single_wallet_history/history_0xD5376Cac7471133380A055b9D1F1C612bb68c10D.csv\n"
     ]
    }
   ],
   "source": [
    "def create_df(path):\n",
    "    list_df = []\n",
    "    list_files = os.listdir(path)\n",
    "\n",
    "    path_list = [path + item for item in list_files if item != '.DS_Store']\n",
    "    path_list.sort()\n",
    "    for item in path_list:\n",
    "        print(item)\n",
    "        temp_df = pd.read_csv(item, low_memory=False)\n",
    "        list_df.append(temp_df)\n",
    "    final = pd.concat(list_df)\n",
    "    return final\n",
    "\n",
    "def create_equal_representation(df):\n",
    "    malicious = df.loc[df['malicious'] == 1]\n",
    "\n",
    "    non_mal = df.loc[df['malicious'] == 0]\n",
    "    non_mal_sample = non_mal.sample(len(malicious))\n",
    "\n",
    "    return pd.concat([malicious, non_mal_sample], ignore_index= True)\n",
    "\n",
    "path = '/Users/matthewschultz/Big_Data_Lab/identity_review/csv_output/single_wallet_history/'\n",
    "\n",
    "df = create_df(path)\n",
    "\n",
    "need_name = create_equal_representation(df)"
   ]
  },
  {
   "cell_type": "code",
   "execution_count": 4,
   "metadata": {},
   "outputs": [
    {
     "data": {
      "text/plain": [
       "(array([619.,  10.,   0.,   2.,   1.,   0.,   1.,   0.,   2.,   1.,   0.,\n",
       "          0.,   1.,   0.,   0.,   0.,   0.,   0.,   0.,   0.,   0.,   0.,\n",
       "          0.,   0.,   0.,   0.,   0.,   0.,   0.,   0.,   0.,   0.,   0.,\n",
       "          0.,   0.,   1.]),\n",
       " array([    0.        ,  2656.38888889,  5312.77777778,  7969.16666667,\n",
       "        10625.55555556, 13281.94444444, 15938.33333333, 18594.72222222,\n",
       "        21251.11111111, 23907.5       , 26563.88888889, 29220.27777778,\n",
       "        31876.66666667, 34533.05555556, 37189.44444444, 39845.83333333,\n",
       "        42502.22222222, 45158.61111111, 47815.        , 50471.38888889,\n",
       "        53127.77777778, 55784.16666667, 58440.55555556, 61096.94444444,\n",
       "        63753.33333333, 66409.72222222, 69066.11111111, 71722.5       ,\n",
       "        74378.88888889, 77035.27777778, 79691.66666667, 82348.05555556,\n",
       "        85004.44444444, 87660.83333333, 90317.22222222, 92973.61111111,\n",
       "        95630.        ]),\n",
       " <BarContainer object of 36 artists>)"
      ]
     },
     "execution_count": 4,
     "metadata": {},
     "output_type": "execute_result"
    },
    {
     "data": {
      "image/png": "[encoded data removed]",
      "text/plain": [
       "<Figure size 640x480 with 1 Axes>"
      ]
     },
     "metadata": {},
     "output_type": "display_data"
    }
   ],
   "source": [
    "plt.hist(need_name['value'], color = 'blue', edgecolor = 'black',\n",
    "    bins = int(180/5))"
   ]
  },
  {
   "cell_type": "code",
   "execution_count": 5,
   "metadata": {},
   "outputs": [
    {
     "data": {
      "text/plain": [
       "(array([549.,  19.,   7.,  10.,   6.,   6.,   5.,   6.,   1.,   3.,   2.,\n",
       "          0.,   1.,   0.,   4.,   3.,   1.,   0.,   2.,   0.,   1.,   0.,\n",
       "          1.,   2.,   1.,   0.,   0.,   0.,   0.,   0.,   0.,   0.,   0.,\n",
       "          1.,   0.,   0.,   0.,   1.,   0.,   0.,   0.,   0.,   1.,   0.,\n",
       "          0.,   1.,   0.,   0.,   0.,   0.,   0.,   0.,   0.,   0.,   0.,\n",
       "          0.,   0.,   0.,   0.,   0.,   0.,   0.,   0.,   0.,   0.,   0.,\n",
       "          0.,   1.,   0.,   0.,   0.,   0.,   1.,   0.,   0.,   0.,   0.,\n",
       "          0.,   0.,   0.,   0.,   1.,   0.,   0.,   0.,   0.,   0.,   0.,\n",
       "          0.,   0.,   0.,   0.,   0.,   0.,   0.,   0.,   0.,   0.,   0.,\n",
       "          0.,   0.,   0.,   0.,   0.,   0.,   0.,   0.,   0.,   0.,   0.,\n",
       "          0.,   0.,   0.,   0.,   0.,   0.,   0.,   0.,   0.,   0.,   0.,\n",
       "          0.,   0.,   0.,   0.,   0.,   0.,   0.,   0.,   0.,   0.,   0.,\n",
       "          0.,   0.,   0.,   0.,   0.,   0.,   0.,   0.,   0.,   0.,   0.,\n",
       "          0.,   0.,   0.,   0.,   0.,   0.,   0.,   0.,   0.,   0.,   0.,\n",
       "          0.,   0.,   0.,   0.,   0.,   0.,   0.,   0.,   0.,   0.,   0.,\n",
       "          0.,   0.,   0.,   0.,   0.,   0.,   0.,   0.,   0.,   0.,   0.,\n",
       "          0.,   0.,   0.,   1.]),\n",
       " array([      0.        ,   11681.76111111,   23363.52222222,\n",
       "          35045.28333333,   46727.04444444,   58408.80555556,\n",
       "          70090.56666667,   81772.32777778,   93454.08888889,\n",
       "         105135.85      ,  116817.61111111,  128499.37222222,\n",
       "         140181.13333333,  151862.89444444,  163544.65555556,\n",
       "         175226.41666667,  186908.17777778,  198589.93888889,\n",
       "         210271.7       ,  221953.46111111,  233635.22222222,\n",
       "         245316.98333333,  256998.74444444,  268680.50555556,\n",
       "         280362.26666667,  292044.02777778,  303725.78888889,\n",
       "         315407.55      ,  327089.31111111,  338771.07222222,\n",
       "         350452.83333333,  362134.59444444,  373816.35555556,\n",
       "         385498.11666667,  397179.87777778,  408861.63888889,\n",
       "         420543.4       ,  432225.16111111,  443906.92222222,\n",
       "         455588.68333333,  467270.44444444,  478952.20555556,\n",
       "         490633.96666667,  502315.72777778,  513997.48888889,\n",
       "         525679.25      ,  537361.01111111,  549042.77222222,\n",
       "         560724.53333333,  572406.29444444,  584088.05555556,\n",
       "         595769.81666667,  607451.57777778,  619133.33888889,\n",
       "         630815.1       ,  642496.86111111,  654178.62222222,\n",
       "         665860.38333333,  677542.14444444,  689223.90555556,\n",
       "         700905.66666667,  712587.42777778,  724269.18888889,\n",
       "         735950.95      ,  747632.71111111,  759314.47222222,\n",
       "         770996.23333333,  782677.99444444,  794359.75555556,\n",
       "         806041.51666667,  817723.27777778,  829405.03888889,\n",
       "         841086.8       ,  852768.56111111,  864450.32222222,\n",
       "         876132.08333333,  887813.84444444,  899495.60555556,\n",
       "         911177.36666667,  922859.12777778,  934540.88888889,\n",
       "         946222.65      ,  957904.41111111,  969586.17222222,\n",
       "         981267.93333333,  992949.69444444, 1004631.45555556,\n",
       "        1016313.21666667, 1027994.97777778, 1039676.73888889,\n",
       "        1051358.5       , 1063040.26111111, 1074722.02222222,\n",
       "        1086403.78333333, 1098085.54444444, 1109767.30555556,\n",
       "        1121449.06666667, 1133130.82777778, 1144812.58888889,\n",
       "        1156494.35      , 1168176.11111111, 1179857.87222222,\n",
       "        1191539.63333333, 1203221.39444444, 1214903.15555556,\n",
       "        1226584.91666667, 1238266.67777778, 1249948.43888889,\n",
       "        1261630.2       , 1273311.96111111, 1284993.72222222,\n",
       "        1296675.48333333, 1308357.24444444, 1320039.00555556,\n",
       "        1331720.76666667, 1343402.52777778, 1355084.28888889,\n",
       "        1366766.05      , 1378447.81111111, 1390129.57222222,\n",
       "        1401811.33333333, 1413493.09444444, 1425174.85555556,\n",
       "        1436856.61666667, 1448538.37777778, 1460220.13888889,\n",
       "        1471901.9       , 1483583.66111111, 1495265.42222222,\n",
       "        1506947.18333333, 1518628.94444444, 1530310.70555556,\n",
       "        1541992.46666667, 1553674.22777778, 1565355.98888889,\n",
       "        1577037.75      , 1588719.51111111, 1600401.27222222,\n",
       "        1612083.03333333, 1623764.79444444, 1635446.55555556,\n",
       "        1647128.31666667, 1658810.07777778, 1670491.83888889,\n",
       "        1682173.6       , 1693855.36111111, 1705537.12222222,\n",
       "        1717218.88333333, 1728900.64444444, 1740582.40555556,\n",
       "        1752264.16666667, 1763945.92777778, 1775627.68888889,\n",
       "        1787309.45      , 1798991.21111111, 1810672.97222222,\n",
       "        1822354.73333333, 1834036.49444444, 1845718.25555556,\n",
       "        1857400.01666667, 1869081.77777778, 1880763.53888889,\n",
       "        1892445.3       , 1904127.06111111, 1915808.82222222,\n",
       "        1927490.58333333, 1939172.34444444, 1950854.10555556,\n",
       "        1962535.86666667, 1974217.62777778, 1985899.38888889,\n",
       "        1997581.15      , 2009262.91111111, 2020944.67222222,\n",
       "        2032626.43333333, 2044308.19444444, 2055989.95555556,\n",
       "        2067671.71666667, 2079353.47777778, 2091035.23888889,\n",
       "        2102717.        ]),\n",
       " <BarContainer object of 180 artists>)"
      ]
     },
     "execution_count": 5,
     "metadata": {},
     "output_type": "execute_result"
    },
    {
     "data": {
      "image/png": "[encoded data removed]",
      "text/plain": [
       "<Figure size 640x480 with 1 Axes>"
      ]
     },
     "metadata": {},
     "output_type": "display_data"
    }
   ],
   "source": [
    "plt.hist(need_name['time_b/w_trans'], color = 'blue', edgecolor = 'black',\n",
    "    bins = int(180))"
   ]
  },
  {
   "attachments": {},
   "cell_type": "markdown",
   "metadata": {},
   "source": [
    "Both of the visuals above demonstrate that a large number of data is skewed to the left. This is the most why the random forest model were printing 100% accuarcy when performing a cross validation test. As a result, value and time between transactions need to be normalized to fit the model.\n",
    "\n",
    "As a result, I will be using sk-learn's Normalizer class to fit the columns between 0 and 1 to help fix the model.\n"
   ]
  },
  {
   "cell_type": "code",
   "execution_count": 35,
   "metadata": {},
   "outputs": [
    {
     "name": "stdout",
     "output_type": "stream",
     "text": [
      "0      9.130569e-01\n",
      "1      9.916172e-01\n",
      "2      9.992879e-01\n",
      "3      9.944178e-01\n",
      "4      1.000000e+00\n",
      "           ...     \n",
      "633    0.000000e+00\n",
      "634    5.411619e-07\n",
      "635    0.000000e+00\n",
      "636    1.000000e+00\n",
      "637    0.000000e+00\n",
      "Name: value, Length: 638, dtype: float64\n"
     ]
    }
   ],
   "source": [
    "scalar = preprocessing.Normalizer().fit_transform(need_name[['value', 'time_b/w_trans']])\n",
    "temp = need_name[['type_of_trans', 'malicious']].to_numpy()\n",
    "\n",
    "combined = np.concatenate((scalar, temp), axis = 1)\n",
    "\n",
    "\n",
    "normalized = pd.DataFrame(combined)\n",
    "normalized = normalized.rename(columns = {\n",
    "    0: 'value',\n",
    "    1: 'time_b/w_trans',\n",
    "    2: 'type_of_trans',\n",
    "    3: 'malicious'\n",
    "    })"
   ]
  },
  {
   "cell_type": "code",
   "execution_count": 38,
   "metadata": {},
   "outputs": [
    {
     "name": "stdout",
     "output_type": "stream",
     "text": [
      "[0.71875    0.90625    0.984375   0.953125   0.953125   0.96875\n",
      " 0.921875   0.921875   1.         0.92063492]\n"
     ]
    }
   ],
   "source": [
    "X = normalized[['value', 'time_b/w_trans', 'type_of_trans']].to_numpy()\n",
    "y = normalized['malicious'].to_numpy()\n",
    "\n",
    "X_train, X_test, y_train, y_test = train_test_split(X, y, random_state=1)\n",
    "\n",
    "model = RandomForestClassifier(n_estimators=3, random_state=0)\n",
    "\n",
    "scores = cross_val_score(model, X, y, cv=10)\n",
    "\n",
    "print(scores)"
   ]
  },
  {
   "attachments": {},
   "cell_type": "markdown",
   "metadata": {},
   "source": [
    "Compared to the first graph there is much more variation in the score presented by the cross validation test. This well help prove the legitamcy of the model."
   ]
  }
 ],
 "metadata": {
  "kernelspec": {
   "display_name": "Python 3",
   "language": "python",
   "name": "python3"
  },
  "language_info": {
   "codemirror_mode": {
    "name": "ipython",
    "version": 3
   },
   "file_extension": ".py",
   "mimetype": "text/x-python",
   "name": "python",
   "nbconvert_exporter": "python",
   "pygments_lexer": "ipython3",
   "version": "3.9.14 (main, Sep  6 2022, 23:28:57) \n[Clang 13.0.0 (clang-1300.0.29.30)]"
  },
  "orig_nbformat": 4,
  "vscode": {
   "interpreter": {
    "hash": "397704579725e15f5c7cb49fe5f0341eb7531c82d19f2c29d197e8b64ab5776b"
   }
  }
 },
 "nbformat": 4,
 "nbformat_minor": 2
}
