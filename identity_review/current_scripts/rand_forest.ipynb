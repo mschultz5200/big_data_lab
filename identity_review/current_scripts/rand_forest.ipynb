{
 "cells": [
  {
   "cell_type": "code",
   "execution_count": 57,
   "metadata": {},
   "outputs": [],
   "source": [
    "import pandas as pd\n",
    "from sklearn.ensemble import RandomForestClassifier\n",
    "from sklearn.model_selection import train_test_split, cross_val_score\n",
    "from sklearn.metrics import accuracy_score, confusion_matrix, classification_report\n",
    "from sklearn import preprocessing\n",
    "import numpy as np\n",
    "import os\n",
    "from sklearn import svm\n",
    "import matplotlib.pyplot as plt\n",
    "from random import randint\n",
    "import pickle\n"
   ]
  },
  {
   "cell_type": "code",
   "execution_count": 2,
   "metadata": {},
   "outputs": [
    {
     "name": "stdout",
     "output_type": "stream",
     "text": [
      "/Users/matthewschultz/Big_Data_Lab/identity_review/csv_output/single_wallet_history/history_0x098b716b8aaf21512996dc57eb0615e2383e2f96.csv\n",
      "/Users/matthewschultz/Big_Data_Lab/identity_review/csv_output/single_wallet_history/history_0x3035b2e90D83c1C07C1F8A21e4cb27e8E8A0a00e.csv\n",
      "/Users/matthewschultz/Big_Data_Lab/identity_review/csv_output/single_wallet_history/history_0x3E0DeFb880cd8e163baD68ABe66437f99A7A8A74.csv\n",
      "/Users/matthewschultz/Big_Data_Lab/identity_review/csv_output/single_wallet_history/history_0x6162759eDAd730152F0dF8115c698a42E666157F.csv\n",
      "/Users/matthewschultz/Big_Data_Lab/identity_review/csv_output/single_wallet_history/history_0x629e7Da20197a5429d30da36E77d06CdF796b71A.csv\n",
      "/Users/matthewschultz/Big_Data_Lab/identity_review/csv_output/single_wallet_history/history_0x711C0139ABA68542A768f24964a801a93500D24D.csv\n",
      "/Users/matthewschultz/Big_Data_Lab/identity_review/csv_output/single_wallet_history/history_0xD5376Cac7471133380A055b9D1F1C612bb68c10D.csv\n"
     ]
    }
   ],
   "source": [
    "def create_df(path):\n",
    "    list_df = []\n",
    "    list_files = os.listdir(path)\n",
    "\n",
    "    path_list = [path + item for item in list_files if item != '.DS_Store']\n",
    "    path_list.sort()\n",
    "    for item in path_list:\n",
    "        print(item)\n",
    "        temp_df = pd.read_csv(item, low_memory=False)\n",
    "        list_df.append(temp_df)\n",
    "    final = pd.concat(list_df)\n",
    "    return final\n",
    "\n",
    "def create_equal_representation(df):\n",
    "    malicious = df.loc[df['malicious'] == 1]\n",
    "\n",
    "    non_mal = df.loc[df['malicious'] == 0]\n",
    "    non_mal_sample = non_mal.sample(len(malicious))\n",
    "\n",
    "    return pd.concat([malicious, non_mal_sample], ignore_index= True)\n",
    "\n",
    "path = '/Users/matthewschultz/Big_Data_Lab/identity_review/csv_output/single_wallet_history/'\n",
    "\n",
    "df = create_df(path)\n",
    "\n",
    "need_name = create_equal_representation(df)"
   ]
  },
  {
   "cell_type": "code",
   "execution_count": 3,
   "metadata": {},
   "outputs": [
    {
     "data": {
      "text/plain": [
       "(array([619.,  10.,   0.,   2.,   1.,   0.,   1.,   0.,   2.,   1.,   0.,\n",
       "          0.,   1.,   0.,   0.,   0.,   0.,   0.,   0.,   0.,   0.,   0.,\n",
       "          0.,   0.,   0.,   0.,   0.,   0.,   0.,   0.,   0.,   0.,   0.,\n",
       "          0.,   0.,   1.]),\n",
       " array([    0.        ,  2656.38888889,  5312.77777778,  7969.16666667,\n",
       "        10625.55555556, 13281.94444444, 15938.33333333, 18594.72222222,\n",
       "        21251.11111111, 23907.5       , 26563.88888889, 29220.27777778,\n",
       "        31876.66666667, 34533.05555556, 37189.44444444, 39845.83333333,\n",
       "        42502.22222222, 45158.61111111, 47815.        , 50471.38888889,\n",
       "        53127.77777778, 55784.16666667, 58440.55555556, 61096.94444444,\n",
       "        63753.33333333, 66409.72222222, 69066.11111111, 71722.5       ,\n",
       "        74378.88888889, 77035.27777778, 79691.66666667, 82348.05555556,\n",
       "        85004.44444444, 87660.83333333, 90317.22222222, 92973.61111111,\n",
       "        95630.        ]),\n",
       " <BarContainer object of 36 artists>)"
      ]
     },
     "execution_count": 3,
     "metadata": {},
     "output_type": "execute_result"
    },
    {
     "data": {
      "image/png": "[encoded data removed]",
      "text/plain": [
       "<Figure size 640x480 with 1 Axes>"
      ]
     },
     "metadata": {},
     "output_type": "display_data"
    }
   ],
   "source": [
    "plt.hist(need_name['value'], color = 'blue', edgecolor = 'black',\n",
    "    bins = int(180/5))"
   ]
  },
  {
   "cell_type": "code",
   "execution_count": 4,
   "metadata": {},
   "outputs": [
    {
     "data": {
      "text/plain": [
       "(array([590.,  14.,  15.,   2.,   4.,   3.,   1.,   2.,   0.,   0.,   1.,\n",
       "          0.,   0.,   1.,   1.,   0.,   0.,   0.,   0.,   0.,   0.,   0.,\n",
       "          1.,   0.,   0.,   0.,   0.,   0.,   0.,   0.,   0.,   0.,   0.,\n",
       "          0.,   0.,   1.,   0.,   0.,   0.,   0.,   1.,   0.,   0.,   0.,\n",
       "          0.,   0.,   0.,   0.,   0.,   0.,   0.,   0.,   0.,   0.,   0.,\n",
       "          0.,   0.,   0.,   0.,   0.,   0.,   0.,   0.,   0.,   0.,   0.,\n",
       "          0.,   0.,   0.,   0.,   0.,   0.,   0.,   0.,   0.,   0.,   0.,\n",
       "          0.,   0.,   0.,   0.,   0.,   0.,   0.,   0.,   0.,   0.,   0.,\n",
       "          0.,   0.,   0.,   0.,   0.,   0.,   0.,   0.,   0.,   0.,   0.,\n",
       "          0.,   0.,   0.,   0.,   0.,   0.,   0.,   0.,   0.,   0.,   0.,\n",
       "          0.,   0.,   0.,   0.,   0.,   0.,   0.,   0.,   0.,   0.,   0.,\n",
       "          0.,   0.,   0.,   0.,   0.,   0.,   0.,   0.,   0.,   0.,   0.,\n",
       "          0.,   0.,   0.,   0.,   0.,   0.,   0.,   0.,   0.,   0.,   0.,\n",
       "          0.,   0.,   0.,   0.,   0.,   0.,   0.,   0.,   0.,   0.,   0.,\n",
       "          0.,   0.,   0.,   0.,   0.,   0.,   0.,   0.,   0.,   0.,   0.,\n",
       "          0.,   0.,   0.,   0.,   0.,   0.,   0.,   0.,   0.,   0.,   0.,\n",
       "          0.,   0.,   0.,   1.]),\n",
       " array([      0.        ,   37750.67222222,   75501.34444444,\n",
       "         113252.01666667,  151002.68888889,  188753.36111111,\n",
       "         226504.03333333,  264254.70555556,  302005.37777778,\n",
       "         339756.05      ,  377506.72222222,  415257.39444444,\n",
       "         453008.06666667,  490758.73888889,  528509.41111111,\n",
       "         566260.08333333,  604010.75555556,  641761.42777778,\n",
       "         679512.1       ,  717262.77222222,  755013.44444444,\n",
       "         792764.11666667,  830514.78888889,  868265.46111111,\n",
       "         906016.13333333,  943766.80555556,  981517.47777778,\n",
       "        1019268.15      , 1057018.82222222, 1094769.49444444,\n",
       "        1132520.16666667, 1170270.83888889, 1208021.51111111,\n",
       "        1245772.18333333, 1283522.85555556, 1321273.52777778,\n",
       "        1359024.2       , 1396774.87222222, 1434525.54444444,\n",
       "        1472276.21666667, 1510026.88888889, 1547777.56111111,\n",
       "        1585528.23333333, 1623278.90555556, 1661029.57777778,\n",
       "        1698780.25      , 1736530.92222222, 1774281.59444444,\n",
       "        1812032.26666667, 1849782.93888889, 1887533.61111111,\n",
       "        1925284.28333333, 1963034.95555556, 2000785.62777778,\n",
       "        2038536.3       , 2076286.97222222, 2114037.64444444,\n",
       "        2151788.31666667, 2189538.98888889, 2227289.66111111,\n",
       "        2265040.33333333, 2302791.00555556, 2340541.67777778,\n",
       "        2378292.35      , 2416043.02222222, 2453793.69444444,\n",
       "        2491544.36666667, 2529295.03888889, 2567045.71111111,\n",
       "        2604796.38333333, 2642547.05555556, 2680297.72777778,\n",
       "        2718048.4       , 2755799.07222222, 2793549.74444444,\n",
       "        2831300.41666667, 2869051.08888889, 2906801.76111111,\n",
       "        2944552.43333333, 2982303.10555556, 3020053.77777778,\n",
       "        3057804.45      , 3095555.12222222, 3133305.79444444,\n",
       "        3171056.46666667, 3208807.13888889, 3246557.81111111,\n",
       "        3284308.48333333, 3322059.15555556, 3359809.82777778,\n",
       "        3397560.5       , 3435311.17222222, 3473061.84444444,\n",
       "        3510812.51666667, 3548563.18888889, 3586313.86111111,\n",
       "        3624064.53333333, 3661815.20555556, 3699565.87777778,\n",
       "        3737316.55      , 3775067.22222222, 3812817.89444444,\n",
       "        3850568.56666667, 3888319.23888889, 3926069.91111111,\n",
       "        3963820.58333333, 4001571.25555556, 4039321.92777778,\n",
       "        4077072.6       , 4114823.27222222, 4152573.94444444,\n",
       "        4190324.61666667, 4228075.28888889, 4265825.96111111,\n",
       "        4303576.63333333, 4341327.30555556, 4379077.97777778,\n",
       "        4416828.65      , 4454579.32222222, 4492329.99444444,\n",
       "        4530080.66666667, 4567831.33888889, 4605582.01111111,\n",
       "        4643332.68333333, 4681083.35555556, 4718834.02777778,\n",
       "        4756584.7       , 4794335.37222222, 4832086.04444444,\n",
       "        4869836.71666667, 4907587.38888889, 4945338.06111111,\n",
       "        4983088.73333333, 5020839.40555556, 5058590.07777778,\n",
       "        5096340.75      , 5134091.42222222, 5171842.09444444,\n",
       "        5209592.76666667, 5247343.43888889, 5285094.11111111,\n",
       "        5322844.78333333, 5360595.45555556, 5398346.12777778,\n",
       "        5436096.8       , 5473847.47222222, 5511598.14444444,\n",
       "        5549348.81666667, 5587099.48888889, 5624850.16111111,\n",
       "        5662600.83333333, 5700351.50555556, 5738102.17777778,\n",
       "        5775852.85      , 5813603.52222222, 5851354.19444444,\n",
       "        5889104.86666667, 5926855.53888889, 5964606.21111111,\n",
       "        6002356.88333333, 6040107.55555556, 6077858.22777778,\n",
       "        6115608.9       , 6153359.57222222, 6191110.24444444,\n",
       "        6228860.91666667, 6266611.58888889, 6304362.26111111,\n",
       "        6342112.93333333, 6379863.60555556, 6417614.27777778,\n",
       "        6455364.95      , 6493115.62222222, 6530866.29444444,\n",
       "        6568616.96666667, 6606367.63888889, 6644118.31111111,\n",
       "        6681868.98333333, 6719619.65555556, 6757370.32777778,\n",
       "        6795121.        ]),\n",
       " <BarContainer object of 180 artists>)"
      ]
     },
     "execution_count": 4,
     "metadata": {},
     "output_type": "execute_result"
    },
    {
     "data": {
      "image/png": "[encoded data removed]",
      "text/plain": [
       "<Figure size 640x480 with 1 Axes>"
      ]
     },
     "metadata": {},
     "output_type": "display_data"
    }
   ],
   "source": [
    "plt.hist(need_name['time_b/w_trans'], color = 'blue', edgecolor = 'black',\n",
    "    bins = int(180))"
   ]
  },
  {
   "attachments": {},
   "cell_type": "markdown",
   "metadata": {},
   "source": [
    "Both of the visuals above demonstrate that a large number of data is skewed to the left. This is the most why the random forest model were printing 100% accuarcy when performing a cross validation test. As a result, value and time between transactions need to be normalized to fit the model.\n",
    "\n"
   ]
  },
  {
   "cell_type": "code",
   "execution_count": 26,
   "metadata": {},
   "outputs": [],
   "source": [
    "scalar = preprocessing.Normalizer(norm=\"l1\").fit_transform(need_name[['value', 'time_b/w_trans']])\n",
    "temp = need_name[['type_of_trans', 'malicious']].to_numpy()\n",
    "\n",
    "combined = np.concatenate((scalar, temp), axis = 1)\n",
    "\n",
    "\n",
    "normalized = pd.DataFrame(combined)\n",
    "normalized = normalized.rename(columns = {\n",
    "    0: 'value',\n",
    "    1: 'time_b/w_trans',\n",
    "    2: 'type_of_trans',\n",
    "    3: 'malicious'\n",
    "    })"
   ]
  },
  {
   "attachments": {},
   "cell_type": "markdown",
   "metadata": {},
   "source": [
    "After normalizing the data, we need to recheck the distributions."
   ]
  },
  {
   "cell_type": "code",
   "execution_count": 27,
   "metadata": {},
   "outputs": [
    {
     "data": {
      "text/plain": [
       "(array([315.,  11.,  13.,   7.,  11.,  13.,  37.,  75.,  69.,  87.]),\n",
       " array([0. , 0.1, 0.2, 0.3, 0.4, 0.5, 0.6, 0.7, 0.8, 0.9, 1. ]),\n",
       " <BarContainer object of 10 artists>)"
      ]
     },
     "execution_count": 27,
     "metadata": {},
     "output_type": "execute_result"
    },
    {
     "data": {
      "image/png": "[encoded data removed]",
      "text/plain": [
       "<Figure size 640x480 with 1 Axes>"
      ]
     },
     "metadata": {},
     "output_type": "display_data"
    }
   ],
   "source": [
    "plt.hist(normalized['value'], color = 'blue', edgecolor = 'black')"
   ]
  },
  {
   "cell_type": "code",
   "execution_count": 28,
   "metadata": {},
   "outputs": [
    {
     "data": {
      "text/plain": [
       "(array([114.,  59.,  85.,  37.,  13.,  11.,   7.,  13.,  10., 289.]),\n",
       " array([0. , 0.1, 0.2, 0.3, 0.4, 0.5, 0.6, 0.7, 0.8, 0.9, 1. ]),\n",
       " <BarContainer object of 10 artists>)"
      ]
     },
     "execution_count": 28,
     "metadata": {},
     "output_type": "execute_result"
    },
    {
     "data": {
      "image/png": "[encoded data removed]",
      "text/plain": [
       "<Figure size 640x480 with 1 Axes>"
      ]
     },
     "metadata": {},
     "output_type": "display_data"
    }
   ],
   "source": [
    "plt.hist(normalized['time_b/w_trans'], color = 'blue', edgecolor = 'black')"
   ]
  },
  {
   "cell_type": "code",
   "execution_count": 48,
   "metadata": {},
   "outputs": [],
   "source": [
    "X = normalized[['value', 'time_b/w_trans', 'type_of_trans']].to_numpy()\n",
    "y = normalized['malicious'].to_numpy()\n",
    "\n",
    "\n",
    "def ensure_equal(x_df, y_df):\n",
    "    X_train, X_test, y_train, y_test = train_test_split(x_df, y_df, train_size=0.5, random_state = randint(1, 300))\n",
    "    if len(np.where(y_train == 1)[0]) / len(y_train) < 0.5:\n",
    "        return ensure_equal(x_df, y_df)\n",
    "    else:\n",
    "        return X_train, X_test, y_train, y_test\n",
    "\n",
    "X_train, X_test, y_train, y_test = ensure_equal(X, y)\n",
    "    \n",
    "\n"
   ]
  },
  {
   "cell_type": "code",
   "execution_count": 49,
   "metadata": {},
   "outputs": [
    {
     "name": "stdout",
     "output_type": "stream",
     "text": [
      "[0.75       0.890625   0.984375   0.953125   0.984375   0.96875\n",
      " 0.90625    0.96875    0.98412698 0.93650794]\n"
     ]
    }
   ],
   "source": [
    "model = RandomForestClassifier(n_estimators=3, random_state=0)\n",
    "\n",
    "scores = cross_val_score(model, X, y, cv=10)\n",
    "\n",
    "print(scores)"
   ]
  },
  {
   "attachments": {},
   "cell_type": "markdown",
   "metadata": {},
   "source": [
    "Compared to the first graph there is much more variation in the score presented by the cross validation test. This well help prove the legitamcy of the model."
   ]
  },
  {
   "cell_type": "code",
   "execution_count": 50,
   "metadata": {},
   "outputs": [
    {
     "name": "stdout",
     "output_type": "stream",
     "text": [
      "0.9373040752351097\n"
     ]
    }
   ],
   "source": [
    "fitted_model = model.fit(X_train, y_train)\n",
    "\n",
    "predict = fitted_model.predict(X_test).tolist()\n",
    "\n",
    "malicious_correct = []\n",
    "\n",
    "for i in range(len(y_test)):\n",
    "    if y_test[i] == predict[i]:\n",
    "        malicious_correct.append(1)\n",
    "    else:\n",
    "        malicious_correct.append(0)\n",
    "\n",
    "print(malicious_correct.count(1)/len(malicious_correct))"
   ]
  },
  {
   "attachments": {},
   "cell_type": "markdown",
   "metadata": {},
   "source": [
    "Now we will save the file so that I can be used in the NEAT algo"
   ]
  },
  {
   "cell_type": "code",
   "execution_count": 61,
   "metadata": {},
   "outputs": [
    {
     "name": "stdout",
     "output_type": "stream",
     "text": [
      "2\n"
     ]
    }
   ],
   "source": [
    "def save_trained_model(model, path):\n",
    "    list_files = os.listdir(path)\n",
    "    files = [file for file in list_files if file != '.DS_Store']\n",
    "    if len(files) == 0:\n",
    "        file_name = path + \"/rand_forest_1.sav\"\n",
    "        pickle.dump(model, open(file_name, 'wb'))\n",
    "    else:\n",
    "        file_number = int(files[-1].split(\"_\")[2].split(\".\")[0]) + 1\n",
    "        file_name = path + \"/rand_forest_{}.sav\".format(file_number)\n",
    "        pickle.dump(model, open(file_name, 'wb'))\n",
    "        \n",
    "\n",
    "path_name = '/Users/matthewschultz/Big_Data_Lab/identity_review/iteration_rand_forest'\n",
    "save_trained_model(fitted_model, path_name)"
   ]
  }
 ],
 "metadata": {
  "kernelspec": {
   "display_name": "Python 3",
   "language": "python",
   "name": "python3"
  },
  "language_info": {
   "codemirror_mode": {
    "name": "ipython",
    "version": 3
   },
   "file_extension": ".py",
   "mimetype": "text/x-python",
   "name": "python",
   "nbconvert_exporter": "python",
   "pygments_lexer": "ipython3",
   "version": "3.9.14"
  },
  "orig_nbformat": 4,
  "vscode": {
   "interpreter": {
    "hash": "397704579725e15f5c7cb49fe5f0341eb7531c82d19f2c29d197e8b64ab5776b"
   }
  }
 },
 "nbformat": 4,
 "nbformat_minor": 2
}
